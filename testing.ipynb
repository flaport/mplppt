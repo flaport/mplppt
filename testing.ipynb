{
 "cells": [
  {
   "cell_type": "code",
   "execution_count": 1,
   "metadata": {},
   "outputs": [],
   "source": [
    "%matplotlib inline\n",
    "import numpy as np\n",
    "import matplotlib.pyplot as plt\n",
    "import matplotlib.patches as patches\n",
    "import mplppt"
   ]
  },
  {
   "cell_type": "code",
   "execution_count": 2,
   "metadata": {},
   "outputs": [
    {
     "data": {
      "text/plain": [
       "(0, 5)"
      ]
     },
     "execution_count": 2,
     "metadata": {},
     "output_type": "execute_result"
    },
    {
     "data": {
      "image/png": "[encoded data removed]",
      "text/plain": [
       "<matplotlib.figure.Figure at 0x2b6c59c0d30>"
      ]
     },
     "metadata": {},
     "output_type": "display_data"
    }
   ],
   "source": [
    "fig1 = plt.figure()\n",
    "ax1 = fig1.add_subplot(111)\n",
    "#plt.axis('equal')\n",
    "\n",
    "ax1.add_patch(\n",
    "  patches.Rectangle(\n",
    "  (1, 0.1),   # (x,y)\n",
    "  3,          # width\n",
    "  0.5,          # height\n",
    "  )\n",
    ")\n",
    "\n",
    "plt.xlim(0,5)"
   ]
  },
  {
   "cell_type": "code",
   "execution_count": 3,
   "metadata": {},
   "outputs": [
    {
     "name": "stdout",
     "output_type": "stream",
     "text": [
      "[<matplotlib.patches.Rectangle object at 0x000002B6C4963320>, <matplotlib.patches.Rectangle object at 0x000002B6C59CF320>]\n",
      "<!-- Start Rect [1pt=12700] insert after </p:grpSpPr> -->\n",
      "<p:sp>\n",
      "    <p:nvSpPr>\n",
      "        <p:cNvPr id=\"1\" name=\"\"/>\n",
      "        <p:cNvSpPr/>\n",
      "        <p:nvPr/>\n",
      "    </p:nvSpPr>\n",
      "    <p:spPr>\n",
      "        <a:xfrm>\n",
      "            <a:off x=\"1\" y=\"1\"/>\n",
      "            <a:ext cx=\"1097280\" cy=\"3657600\"/>\n",
      "        </a:xfrm>\n",
      "        <a:prstGeom prst=\"rect\">\n",
      "            <a:avLst/>\n",
      "        </a:prstGeom>\n",
      "        <a:noFill/>\n",
      "        <a:ln w=\"0\">\n",
      "            <a:noFill/>\n",
      "        </a:ln>\n",
      "    </p:spPr>\n",
      "</p:sp>\n",
      "<!-- End Rect [1pt=12700] -->\n",
      "<!-- Start Rect [1pt=12700] insert after </p:grpSpPr> -->\n",
      "<p:sp>\n",
      "    <p:nvSpPr>\n",
      "        <p:cNvPr id=\"1\" name=\"\"/>\n",
      "        <p:cNvSpPr/>\n",
      "        <p:nvPr/>\n",
      "    </p:nvSpPr>\n",
      "    <p:spPr>\n",
      "        <a:xfrm>\n",
      "            <a:off x=\"1097281\" y=\"1463041\"/>\n",
      "            <a:ext cx=\"3291840\" cy=\"1828800\"/>\n",
      "        </a:xfrm>\n",
      "        <a:prstGeom prst=\"rect\">\n",
      "            <a:avLst/>\n",
      "        </a:prstGeom>\n",
      "        <a:solidFill><a:srgbClr val=\"1f77b4\"/></a:solidFill>\n",
      "        <a:ln w=\"12700\">\n",
      "            <a:noFill/>\n",
      "        </a:ln>\n",
      "    </p:spPr>\n",
      "</p:sp>\n",
      "<!-- End Rect [1pt=12700] -->\n"
     ]
    }
   ],
   "source": [
    "rects = plt.findobj(fig1, patches.Rectangle)[:-1]\n",
    "print(rects)\n",
    "ppt = mplppt.ppt.PPT(objects=[])\n",
    "for rect in rects:\n",
    "  rect._axes = ax1\n",
    "  ppt = ppt + mplppt.ppt.Rectangle.from_mpl(rect)\n",
    "ppt.save('test.pptx')"
   ]
  },
  {
   "cell_type": "code",
   "execution_count": 4,
   "metadata": {},
   "outputs": [
    {
     "data": {
      "text/plain": [
       "[6.0, 4.0]"
      ]
     },
     "execution_count": 4,
     "metadata": {},
     "output_type": "execute_result"
    }
   ],
   "source": [
    "plt.rcParams['figure.figsize']"
   ]
  },
  {
   "cell_type": "code",
   "execution_count": 5,
   "metadata": {},
   "outputs": [
    {
     "data": {
      "text/plain": [
       "288"
      ]
     },
     "execution_count": 5,
     "metadata": {},
     "output_type": "execute_result"
    }
   ],
   "source": [
    "4*mplppt.utils.PIXELSPERINCH//mplppt.utils.PIXELSPERPOINT"
   ]
  },
  {
   "cell_type": "code",
   "execution_count": 6,
   "metadata": {},
   "outputs": [
    {
     "data": {
      "text/plain": [
       "(0.0, 1.0)"
      ]
     },
     "execution_count": 6,
     "metadata": {},
     "output_type": "execute_result"
    }
   ],
   "source": [
    "rect._axes.get_ylim()"
   ]
  },
  {
   "cell_type": "code",
   "execution_count": 7,
   "metadata": {},
   "outputs": [
    {
     "data": {
      "text/plain": [
       "<matplotlib.axes._subplots.AxesSubplot at 0x2b6c59c0cf8>"
      ]
     },
     "execution_count": 7,
     "metadata": {},
     "output_type": "execute_result"
    }
   ],
   "source": [
    "rect._axes"
   ]
  },
  {
   "cell_type": "code",
   "execution_count": 8,
   "metadata": {},
   "outputs": [
    {
     "data": {
      "text/plain": [
       "4.0"
      ]
     },
     "execution_count": 8,
     "metadata": {},
     "output_type": "execute_result"
    }
   ],
   "source": [
    "rect._axes.figure.get_figheight()"
   ]
  },
  {
   "cell_type": "code",
   "execution_count": 9,
   "metadata": {},
   "outputs": [
    {
     "data": {
      "text/plain": [
       "6.0"
      ]
     },
     "execution_count": 9,
     "metadata": {},
     "output_type": "execute_result"
    }
   ],
   "source": [
    "rect._axes.figure.get_figwidth()"
   ]
  },
  {
   "cell_type": "code",
   "execution_count": 10,
   "metadata": {},
   "outputs": [],
   "source": [
    "fig1._gid"
   ]
  }
 ],
 "metadata": {
  "kernelspec": {
   "display_name": "Python 3",
   "language": "python",
   "name": "python3"
  },
  "language_info": {
   "codemirror_mode": {
    "name": "ipython",
    "version": 3
   },
   "file_extension": ".py",
   "mimetype": "text/x-python",
   "name": "python",
   "nbconvert_exporter": "python",
   "pygments_lexer": "ipython3",
   "version": "3.6.3"
  }
 },
 "nbformat": 4,
 "nbformat_minor": 2
}
