{
 "cells": [
  {
   "cell_type": "code",
   "execution_count": 1,
   "metadata": {
    "collapsed": true
   },
   "outputs": [],
   "source": [
    "import sys; sys.path.append('..')\n",
    "\n",
    "import mplppt\n",
    "%matplotlib inline\n",
    "import numpy as np\n",
    "import matplotlib as mpl\n",
    "import matplotlib.pyplot as plt\n",
    "import matplotlib.patches as patch\n",
    "\n",
    "from mplppt.save import picklefig, loadpicklefig"
   ]
  },
  {
   "cell_type": "code",
   "execution_count": 2,
   "metadata": {},
   "outputs": [
    {
     "name": "stdout",
     "output_type": "stream",
     "text": [
      "[<matplotlib.spines.Spine object at 0x0000015A2122D550>, <matplotlib.spines.Spine object at 0x0000015A2122D668>, <matplotlib.spines.Spine object at 0x0000015A2122D780>, <matplotlib.spines.Spine object at 0x0000015A2122D898>]\n",
      "119.945454545 37.4642424242\n",
      "50.2148760331 143.495757576\n",
      "Bbox(x0=119.94545454545455, y0=106.47999999999999, x1=144.19545454545454, y1=116.47999999999999)\n",
      "Bbox(x0=221.4, y0=259.44, x1=221.4, y1=259.44)\n",
      "Bbox(x0=54.0, y0=259.44, x1=54.0, y1=259.44)\n",
      "Bbox(x0=388.8, y0=259.44, x1=388.8, y1=259.44)\n",
      "Bbox(x0=119.94545454545455, y0=-82.9816, x1=119.94545454545455, y1=-82.9816)\n",
      "Bbox(x0=64.21818181818182, y0=-92.9816, x1=74.21818181818182, y1=-82.9816)\n",
      "Bbox(x0=116.82045454545455, y0=-92.9816, x1=123.07045454545455, y1=-82.9816)\n",
      "Bbox(x0=167.4852272727273, y0=-92.9816, x1=173.8602272727273, y1=-82.9816)\n",
      "Bbox(x0=218.21250000000003, y0=-92.9816, x1=224.58750000000003, y1=-82.9816)\n",
      "Bbox(x0=269.0022727272727, y0=-92.9816, x1=275.2522727272727, y1=-82.9816)\n",
      "Bbox(x0=319.7295454545455, y0=-92.9816, x1=325.9795454545455, y1=-82.9816)\n",
      "Bbox(x0=370.3943181818182, y0=-92.9816, x1=376.7693181818182, y1=-82.9816)\n",
      "Bbox(x0=119.94545454545455, y0=-82.9816, x1=119.94545454545455, y1=-82.9816)\n",
      "Bbox(x0=-410.33680000000004, y0=108.47999999999999, x1=-410.33680000000004, y1=108.47999999999999)\n",
      "Bbox(x0=-429.71180000000004, y0=44.49599999999999, x1=-410.33680000000004, y1=54.49599999999999)\n",
      "Bbox(x0=-429.83680000000004, y0=73.48799999999999, x1=-410.33680000000004, y1=83.48799999999999)\n",
      "Bbox(x0=-426.08680000000004, y0=102.47999999999999, x1=-410.33680000000004, y1=112.47999999999999)\n",
      "Bbox(x0=-426.21180000000004, y0=131.47199999999998, x1=-410.33680000000004, y1=141.47199999999998)\n",
      "Bbox(x0=-426.08680000000004, y0=160.46399999999997, x1=-410.33680000000004, y1=170.46399999999997)\n",
      "Bbox(x0=-426.21180000000004, y0=189.456, x1=-410.33680000000004, y1=199.456)\n",
      "Bbox(x0=-426.08680000000004, y0=218.44799999999998, x1=-410.33680000000004, y1=228.44799999999998)\n",
      "Bbox(x0=-426.21180000000004, y0=247.43999999999997, x1=-410.33680000000004, y1=257.43999999999994)\n"
     ]
    },
    {
     "data": {
      "image/png": "[encoded data removed]",
      "text/plain": [
       "<matplotlib.figure.Figure at 0x15a21222be0>"
      ]
     },
     "metadata": {},
     "output_type": "display_data"
    }
   ],
   "source": [
    "fig, ax = plt.subplots()\n",
    "\n",
    "if True:\n",
    "  ax.add_patch(\n",
    "    mpl.patches.Rectangle(\n",
    "    (0, 0),   # (x,y)\n",
    "    3,          # width\n",
    "    0.5,        # height\n",
    "    )\n",
    "  )\n",
    "\n",
    "\n",
    "x = np.linspace(-1,5)\n",
    "y = np.sin(x)\n",
    "line, = plt.plot(x,y,color='C1')\n",
    "plt.plot([1,2],[-1.2,-1.5])\n",
    "\n",
    "x = np.linspace(0,1, 100)\n",
    "y = np.linspace(0,1, 100)\n",
    "\n",
    "X, Y = np.meshgrid(x,y)\n",
    "\n",
    "Z = X**2 + Y**2\n",
    "\n",
    "plt.pcolormesh(X,Y,Z)\n",
    "\n",
    "text = plt.gca().text(0,0,'hallo')\n",
    "text._verticalalignment = 'baseline'\n",
    "\n",
    "print(plt.findobj(fig, mpl.spines.Spine))\n",
    "plt.ylim(-0.5,1)\n",
    "\n",
    "mplppt.savefig('test', axis=True)\n",
    "plt.show()"
   ]
  }
 ],
 "metadata": {
  "kernelspec": {
   "display_name": "Python 3",
   "language": "python",
   "name": "python3"
  },
  "language_info": {
   "codemirror_mode": {
    "name": "ipython",
    "version": 3
   },
   "file_extension": ".py",
   "mimetype": "text/x-python",
   "name": "python",
   "nbconvert_exporter": "python",
   "pygments_lexer": "ipython3",
   "version": "3.6.3"
  }
 },
 "nbformat": 4,
 "nbformat_minor": 2
}
