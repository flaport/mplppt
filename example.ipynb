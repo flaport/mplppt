{
 "cells": [
  {
   "cell_type": "code",
   "execution_count": 1,
   "metadata": {},
   "outputs": [],
   "source": [
    "import sys; sys.path.append('..')\n",
    "\n",
    "import mplppt\n",
    "%matplotlib inline\n",
    "import numpy as np\n",
    "import matplotlib as mpl\n",
    "import matplotlib.pyplot as plt\n",
    "import matplotlib.patches as patch\n",
    "\n",
    "from mplppt.save import picklefig, loadpicklefig"
   ]
  },
  {
   "cell_type": "code",
   "execution_count": 2,
   "metadata": {},
   "outputs": [
    {
     "data": {
      "text/plain": [
       "(0.2, 0.8)"
      ]
     },
     "execution_count": 2,
     "metadata": {},
     "output_type": "execute_result"
    },
    {
     "data": {
      "image/png": "[encoded data removed]",
      "text/plain": [
       "<matplotlib.figure.Figure at 0x137b5e9ea90>"
      ]
     },
     "metadata": {},
     "output_type": "display_data"
    }
   ],
   "source": [
    "fig, ax = plt.subplots()\n",
    "\n",
    "if False:\n",
    "  ax.add_patch(\n",
    "    mpl.patches.Rectangle(\n",
    "    (0, 0),   # (x,y)\n",
    "    3,          # width\n",
    "    0.5,        # height\n",
    "    )\n",
    "  )\n",
    "\n",
    "\n",
    "x = np.linspace(-1,5)\n",
    "y = np.sin(x)\n",
    "#line, = plt.plot(x,y,color='C1')\n",
    "#plt.plot([1,2],[-1.2,-1.5])\n",
    "\n",
    "x = np.linspace(0,1, 100)\n",
    "y = np.linspace(0,1, 100)\n",
    "\n",
    "X, Y = np.meshgrid(x,y)\n",
    "\n",
    "Z = X**2 + Y**2\n",
    "\n",
    "plt.pcolormesh(X,Y,Z)\n",
    "\n",
    "#text = plt.gca().text(0,0,'hallo')\n",
    "#text._verticalalignment = 'baseline'\n",
    "#plt.ylim(-.6,1.2)\n",
    "plt.savefig('test')\n",
    "#mplppt.savefig('test', fig, canvas=False)\n",
    "plt.xlim(0.2,0.8)\n",
    "plt.ylim(0.2,0.8)\n",
    "#plt.show()"
   ]
  },
  {
   "cell_type": "raw",
   "metadata": {},
   "source": [
    "#image = plt.findobj(fig, mpl.image.AxesImage)[0]\n",
    "image = plt.findobj(fig, mpl.collections.QuadMesh)[0]"
   ]
  },
  {
   "cell_type": "raw",
   "metadata": {},
   "source": [
    "image.axes"
   ]
  },
  {
   "cell_type": "raw",
   "metadata": {},
   "source": [
    "xlim = image.axes.get_xlim()\n",
    "ylim = image.axes.get_ylim()\n",
    "xmin, xmax = min(xlim), max(xlim)\n",
    "ymin, ymax = min(ylim), max(ylim)\n",
    "\n",
    "\n",
    "X = image._coordinates[:-1,:-1,0]\n",
    "Y = image._coordinates[:-1,:-1,1]\n",
    "Z = image._A.reshape(image._meshHeight, image._meshWidth).data\n",
    "\n",
    "x,y = np.where(((X>xmin) & (X<xmax) & (Y>ymin) & (Y<ymax)))\n",
    "\n",
    "plt.imsave('test.png', Z[max(x):min(x):-1,min(y):max(y)])"
   ]
  },
  {
   "cell_type": "code",
   "execution_count": 3,
   "metadata": {},
   "outputs": [
    {
     "name": "stdout",
     "output_type": "stream",
     "text": [
      "test.png\n",
      "test_lv6c7.png\n"
     ]
    }
   ],
   "source": [
    "img = mplppt.shapes.Image('test.png')\n",
    "img.save('test')"
   ]
  },
  {
   "cell_type": "code",
   "execution_count": 4,
   "metadata": {},
   "outputs": [
    {
     "name": "stdout",
     "output_type": "stream",
     "text": [
      "<p:pic>\n",
      "<p:nvPicPr>\n",
      "<p:cNvPr id=\"1\" name=\"test\">\n",
      "<a:extLst/>\n",
      "</p:cNvPr>\n",
      "<p:cNvPicPr>\n",
      "<a:picLocks noChangeAspect=\"1\"/>\n",
      "</p:cNvPicPr>\n",
      "<p:nvPr/>\n",
      "</p:nvPicPr>\n",
      "<p:blipFill>\n",
      "<a:blip r:embed=\"lv6c7\">\n",
      "<a:extLst/>\n",
      "</a:blip>\n",
      "<a:stretch>\n",
      "<a:fillRect/>\n",
      "</a:stretch>\n",
      "</p:blipFill>\n",
      "<p:spPr>\n",
      "<a:xfrm>\n",
      "<a:off x=\"1\" y=\"1\"/>\n",
      "<a:ext cx=\"4320000\" cy=\"2880000\"/>\n",
      "</a:xfrm>\n",
      "<a:prstGeom prst=\"rect\">\n",
      "<a:avLst/>\n",
      "</a:prstGeom>\n",
      "</p:spPr>\n",
      "</p:pic>\n"
     ]
    }
   ],
   "source": [
    "print(img.xml())"
   ]
  },
  {
   "cell_type": "code",
   "execution_count": 5,
   "metadata": {
    "collapsed": true
   },
   "outputs": [],
   "source": [
    "if []:\n",
    "  print('hoi')"
   ]
  },
  {
   "cell_type": "code",
   "execution_count": 6,
   "metadata": {
    "collapsed": true
   },
   "outputs": [],
   "source": [
    "import shutil"
   ]
  },
  {
   "cell_type": "code",
   "execution_count": 7,
   "metadata": {},
   "outputs": [
    {
     "data": {
      "text/plain": [
       "<function shutil.copy>"
      ]
     },
     "execution_count": 7,
     "metadata": {},
     "output_type": "execute_result"
    }
   ],
   "source": [
    "shutil.copy"
   ]
  }
 ],
 "metadata": {
  "kernelspec": {
   "display_name": "Python 3",
   "language": "python",
   "name": "python3"
  },
  "language_info": {
   "codemirror_mode": {
    "name": "ipython",
    "version": 3
   },
   "file_extension": ".py",
   "mimetype": "text/x-python",
   "name": "python",
   "nbconvert_exporter": "python",
   "pygments_lexer": "ipython3",
   "version": "3.6.3"
  }
 },
 "nbformat": 4,
 "nbformat_minor": 2
}
